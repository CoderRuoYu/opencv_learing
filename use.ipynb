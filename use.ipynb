{
 "cells": [
  {
   "cell_type": "code",
   "execution_count": null,
   "id": "199c3e61-368c-4fbc-9534-cf17ab8f52e8",
   "metadata": {},
   "outputs": [],
   "source": [
    "import cv2\n",
    "def cv_show(wenname,filename):\n",
    "    picture = cv2.imread(filename)\n",
    "    cv2.imshow(name,picture)\n",
    "    key = cv2.waitKey(0)\n",
    "    if key==ord('q'):\n",
    "        cv2.destroyAllWindows()"
   ]
  }
 ],
 "metadata": {
  "kernelspec": {
   "display_name": "Python 3 (ipykernel)",
   "language": "python",
   "name": "python3"
  },
  "language_info": {
   "codemirror_mode": {
    "name": "ipython",
    "version": 3
   },
   "file_extension": ".py",
   "mimetype": "text/x-python",
   "name": "python",
   "nbconvert_exporter": "python",
   "pygments_lexer": "ipython3",
   "version": "3.9.13"
  }
 },
 "nbformat": 4,
 "nbformat_minor": 5
}
