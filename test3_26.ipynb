{
 "cells": [
  {
   "cell_type": "markdown",
   "id": "748fdf7a-9476-434a-a062-6a0d6b817663",
   "metadata": {},
   "source": [
    "### 颜色空间的转换"
   ]
  },
  {
   "cell_type": "code",
   "execution_count": 22,
   "id": "659172ee-f323-4fb1-bc5e-08a35b0e2108",
   "metadata": {},
   "outputs": [],
   "source": [
    "import cv2"
   ]
  },
  {
   "cell_type": "code",
   "execution_count": 23,
   "id": "8058e955-3ce3-436c-bc3b-f64285937dca",
   "metadata": {},
   "outputs": [],
   "source": [
    "def callBack(value):\n",
    "    pass"
   ]
  },
  {
   "cell_type": "code",
   "execution_count": 24,
   "id": "4eeb5859-d5b5-4fdd-b8ed-d5ad5edbe519",
   "metadata": {},
   "outputs": [],
   "source": [
    "cv2.namedWindow('pic',cv2.WINDOW_NORMAL)\n",
    "cv2.resizeWindow('pic',640,480)\n",
    "img = cv2.imread('R.jpg')"
   ]
  },
  {
   "cell_type": "code",
   "execution_count": 25,
   "id": "696901f6-48ea-4ce5-8b71-d420e5d70ffe",
   "metadata": {},
   "outputs": [],
   "source": [
    "colorSpace = [cv2.COLOR_BGR2RGB,cv2.COLOR_BGR2HLS,cv2.COLOR_BGR2HSV]"
   ]
  },
  {
   "cell_type": "code",
   "execution_count": 26,
   "id": "82af296b-3912-4665-aa29-25a7d5e95f4c",
   "metadata": {},
   "outputs": [],
   "source": [
    "cv2.createTrackbar('set','pic',0,2,callBack)"
   ]
  },
  {
   "cell_type": "code",
   "execution_count": 27,
   "id": "0fccd8c0-51f6-42af-8401-18f4832f9669",
   "metadata": {},
   "outputs": [],
   "source": [
    "while True:\n",
    "    tem = cv2.getTrackbarPos('set','pic')\n",
    "    img = cv2.cvtColor(img,colorSpace[tem])\n",
    "    cv2.imshow('pic',img)\n",
    "    key = cv2.waitKey(1)\n",
    "    if key == ord('q'):\n",
    "        break\n",
    "cv2.destroyAllWindows()"
   ]
  },
  {
   "cell_type": "markdown",
   "id": "faa0f3d0-2699-409b-919a-bd94417f786f",
   "metadata": {},
   "source": [
    "### ndarry的四种常见属性\n"
   ]
  },
  {
   "cell_type": "code",
   "execution_count": 1,
   "id": "3fec0c69-d1bb-44d5-bfbe-db74a1c2f168",
   "metadata": {},
   "outputs": [],
   "source": [
    "import cv2"
   ]
  },
  {
   "cell_type": "code",
   "execution_count": 2,
   "id": "67b3e874-a3ea-4417-a4ab-b4474b210e26",
   "metadata": {},
   "outputs": [],
   "source": [
    "import numpy as np"
   ]
  },
  {
   "cell_type": "code",
   "execution_count": 3,
   "id": "280f75db-c63b-4b12-ba0c-584a5d6d2d2c",
   "metadata": {},
   "outputs": [],
   "source": [
    "img = cv2.imread('R.jpg')"
   ]
  },
  {
   "cell_type": "code",
   "execution_count": 6,
   "id": "6c63b816-d1d4-4840-b486-f34f4661e362",
   "metadata": {},
   "outputs": [
    {
     "data": {
      "text/plain": [
       "6912000"
      ]
     },
     "execution_count": 6,
     "metadata": {},
     "output_type": "execute_result"
    }
   ],
   "source": [
    "img.size\n"
   ]
  },
  {
   "cell_type": "code",
   "execution_count": 7,
   "id": "2ef899ab-cf17-431d-b483-c4e6c1434bb3",
   "metadata": {},
   "outputs": [
    {
     "data": {
      "text/plain": [
       "dtype('uint8')"
      ]
     },
     "execution_count": 7,
     "metadata": {},
     "output_type": "execute_result"
    }
   ],
   "source": [
    "img.dtype"
   ]
  },
  {
   "cell_type": "code",
   "execution_count": 8,
   "id": "b0268f77-5aa1-427a-a4c1-3b96fa92a57f",
   "metadata": {},
   "outputs": [
    {
     "data": {
      "text/plain": [
       "(1200, 1920, 3)"
      ]
     },
     "execution_count": 8,
     "metadata": {},
     "output_type": "execute_result"
    }
   ],
   "source": [
    "img.shape"
   ]
  },
  {
   "cell_type": "markdown",
   "id": "ccb2bd97-5ff3-491e-918e-f3290e98ffff",
   "metadata": {},
   "source": [
    "### mat数据结构的深浅拷贝"
   ]
  },
  {
   "cell_type": "code",
   "execution_count": 15,
   "id": "f11944cd-171c-40d2-a051-07c33a783db2",
   "metadata": {},
   "outputs": [],
   "source": [
    "import cv2"
   ]
  },
  {
   "cell_type": "code",
   "execution_count": 16,
   "id": "02ce610b-731a-4fc7-b2fe-4bb2b97a75c2",
   "metadata": {},
   "outputs": [],
   "source": [
    "import numpy as np"
   ]
  },
  {
   "cell_type": "code",
   "execution_count": 17,
   "id": "bed111e0-846a-4632-ae9c-6a6bcbd02406",
   "metadata": {},
   "outputs": [],
   "source": [
    "img = cv2.imread('R.jpg')\n",
    "#浅拷贝\n",
    "img2 = img.view()\n",
    "#深拷贝\n",
    "img3 = img.copy()"
   ]
  },
  {
   "cell_type": "code",
   "execution_count": 18,
   "id": "c61c5305-ceef-44ab-9d6b-18a2fc099cf3",
   "metadata": {},
   "outputs": [],
   "source": [
    "img[10:100,10:100] = [0,0,255]"
   ]
  },
  {
   "cell_type": "code",
   "execution_count": 19,
   "id": "cb3b0263-b497-47d1-b2c7-a7fe8b7353b7",
   "metadata": {},
   "outputs": [],
   "source": [
    "cv2.namedWindow('img',cv2.WINDOW_NORMAL)\n",
    "cv2.resizeWindow('img',640,480)\n",
    "cv2.imshow('img',np.hstack((img,img2,img3)))"
   ]
  },
  {
   "cell_type": "code",
   "execution_count": 20,
   "id": "39bb8768-3777-45b9-bf5c-dc2135ec5625",
   "metadata": {},
   "outputs": [],
   "source": [
    "cv2.waitKey(0)\n",
    "cv2.destroyAllWindows()"
   ]
  },
  {
   "cell_type": "markdown",
   "id": "de0b2cd9-ff47-4e63-9dfc-90f9f91a539b",
   "metadata": {},
   "source": [
    "### 颜色通道的分割和合并"
   ]
  },
  {
   "cell_type": "code",
   "execution_count": 44,
   "id": "737070d4-663a-4210-a7dd-02e225ca8027",
   "metadata": {},
   "outputs": [],
   "source": [
    "import cv2\n",
    "import numpy as np"
   ]
  },
  {
   "cell_type": "code",
   "execution_count": 45,
   "id": "1955ee22-8232-48c4-8cf4-53d1b33655ac",
   "metadata": {},
   "outputs": [],
   "source": [
    "img = np.zeros((200,200,3),np.uint8)"
   ]
  },
  {
   "cell_type": "code",
   "execution_count": 46,
   "id": "70fc6c7b-27bb-4610-90ef-e54c950097f2",
   "metadata": {},
   "outputs": [],
   "source": [
    "b,g,r = cv2.split(img)"
   ]
  },
  {
   "cell_type": "code",
   "execution_count": 47,
   "id": "dabc4ba7-81a2-4805-8085-b3bab84eda3c",
   "metadata": {},
   "outputs": [],
   "source": [
    "b[10:10,10:10]=255\n",
    "g[10:10,10:10]=255"
   ]
  },
  {
   "cell_type": "code",
   "execution_count": 48,
   "id": "9a2c7b01-2372-4677-8102-38c08e84e45f",
   "metadata": {},
   "outputs": [],
   "source": [
    "img2=cv2.merge((b,g,r))"
   ]
  },
  {
   "cell_type": "code",
   "execution_count": 49,
   "id": "0f4969b4-8f62-41b7-afb8-e479c1148592",
   "metadata": {},
   "outputs": [],
   "source": [
    "cv2.imshow('img',img2)\n",
    "cv2.waitKey(0)\n",
    "cv2.destroyAllWindows()"
   ]
  },
  {
   "cell_type": "code",
   "execution_count": null,
   "id": "7e790c24-d26e-4149-b55e-5c81c143f9f4",
   "metadata": {},
   "outputs": [],
   "source": []
  }
 ],
 "metadata": {
  "kernelspec": {
   "display_name": "Python 3 (ipykernel)",
   "language": "python",
   "name": "python3"
  },
  "language_info": {
   "codemirror_mode": {
    "name": "ipython",
    "version": 3
   },
   "file_extension": ".py",
   "mimetype": "text/x-python",
   "name": "python",
   "nbconvert_exporter": "python",
   "pygments_lexer": "ipython3",
   "version": "3.9.13"
  }
 },
 "nbformat": 4,
 "nbformat_minor": 5
}
