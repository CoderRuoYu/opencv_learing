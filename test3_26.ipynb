{
 "cells": [
  {
   "cell_type": "markdown",
   "id": "748fdf7a-9476-434a-a062-6a0d6b817663",
   "metadata": {},
   "source": [
    "### 颜色空间的转换"
   ]
  },
  {
   "cell_type": "code",
   "execution_count": 4,
   "id": "659172ee-f323-4fb1-bc5e-08a35b0e2108",
   "metadata": {},
   "outputs": [],
   "source": [
    "import cv2"
   ]
  },
  {
   "cell_type": "code",
   "execution_count": 5,
   "id": "8058e955-3ce3-436c-bc3b-f64285937dca",
   "metadata": {},
   "outputs": [],
   "source": [
    "def callBack(value):\n",
    "    pass"
   ]
  },
  {
   "cell_type": "code",
   "execution_count": 6,
   "id": "4eeb5859-d5b5-4fdd-b8ed-d5ad5edbe519",
   "metadata": {},
   "outputs": [],
   "source": [
    "cv2.namedWindow('pic',cv2.WINDOW_NORMAL)\n",
    "cv2.resizeWindow('pic',640,480)"
   ]
  },
  {
   "cell_type": "code",
   "execution_count": 7,
   "id": "696901f6-48ea-4ce5-8b71-d420e5d70ffe",
   "metadata": {},
   "outputs": [],
   "source": [
    "colorSpace = [cv2.COLOR_BGR2RGB,cv2.COLOR_BGR2HLS,cv2.COLOR_BGR2HSV]"
   ]
  },
  {
   "cell_type": "code",
   "execution_count": 8,
   "id": "82af296b-3912-4665-aa29-25a7d5e95f4c",
   "metadata": {},
   "outputs": [],
   "source": [
    "cv2.createTrackbar('set','pic',0,2,callBack)"
   ]
  },
  {
   "cell_type": "code",
   "execution_count": null,
   "id": "0fccd8c0-51f6-42af-8401-18f4832f9669",
   "metadata": {},
   "outputs": [],
   "source": [
    "while True:\n",
    "    tem = cv2.getTrackbarPos('set','pic')\n",
    "    cv2.cvtColor()\n",
    "    key = cv2.waitKey(0)\n",
    "    if key == ord('q'):\n",
    "        break\n",
    "cv2.destroyAllWindows()"
   ]
  }
 ],
 "metadata": {
  "kernelspec": {
   "display_name": "Python 3 (ipykernel)",
   "language": "python",
   "name": "python3"
  },
  "language_info": {
   "codemirror_mode": {
    "name": "ipython",
    "version": 3
   },
   "file_extension": ".py",
   "mimetype": "text/x-python",
   "name": "python",
   "nbconvert_exporter": "python",
   "pygments_lexer": "ipython3",
   "version": "3.9.13"
  }
 },
 "nbformat": 4,
 "nbformat_minor": 5
}
