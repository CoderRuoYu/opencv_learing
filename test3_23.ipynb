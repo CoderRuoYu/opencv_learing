{
 "cells": [
  {
   "cell_type": "markdown",
   "id": "f0b259eb-7141-416f-bf00-c2616bb3404c",
   "metadata": {},
   "source": [
    "## 窗口的创建\n"
   ]
  },
  {
   "cell_type": "code",
   "execution_count": 1,
   "id": "f25dac24-2cdf-4b3a-a00b-7562cd42e5ad",
   "metadata": {},
   "outputs": [],
   "source": [
    "import cv2"
   ]
  },
  {
   "cell_type": "code",
   "execution_count": 2,
   "id": "6b9a45f0-9d37-431f-a5a4-1c953b3d69a5",
   "metadata": {},
   "outputs": [],
   "source": [
    "cv2.namedWindow('first',cv2.WINDOW_NORMAL)"
   ]
  },
  {
   "cell_type": "code",
   "execution_count": 3,
   "id": "d9e66052-ba6d-46a1-b89f-5b51fab8e099",
   "metadata": {},
   "outputs": [],
   "source": [
    "cv2.resizeWindow('first',100,50)"
   ]
  },
  {
   "cell_type": "code",
   "execution_count": 4,
   "id": "4b55b1b3-e8b9-4dbd-a7a2-7601c6158d74",
   "metadata": {},
   "outputs": [],
   "source": [
    "cv2.imshow('first',0)"
   ]
  },
  {
   "cell_type": "code",
   "execution_count": 5,
   "id": "4e512d96-4a93-4b03-9f34-bc22ae2d50f9",
   "metadata": {},
   "outputs": [],
   "source": [
    "key = cv2.waitKey(0)"
   ]
  },
  {
   "cell_type": "code",
   "execution_count": 6,
   "id": "26bf87b6-c3c4-42ef-ac01-5feb83fb8487",
   "metadata": {},
   "outputs": [
    {
     "name": "stdout",
     "output_type": "stream",
     "text": [
      "开始销毁窗口。\n"
     ]
    }
   ],
   "source": [
    "if key == ord('q'):\n",
    "    print(\"开始销毁窗口。\")\n",
    "    cv2.destroyAllWindows()"
   ]
  },
  {
   "cell_type": "markdown",
   "id": "151f7bf9-1dcd-426b-81b8-692a7dafbae0",
   "metadata": {},
   "source": [
    "## 加载图片"
   ]
  },
  {
   "cell_type": "code",
   "execution_count": 12,
   "id": "809df845-4175-4683-83b2-0b8c9badae99",
   "metadata": {},
   "outputs": [],
   "source": [
    "import cv2\n",
    "cat = cv2.imread('R.jpg')\n",
    "cv2.imshow('cat',cat)\n",
    "key = cv2.waitKey(0)\n",
    "if key==ord('q'):\n",
    "    cv2.destroyAllWindows()"
   ]
  },
  {
   "cell_type": "markdown",
   "id": "2cd54a65-e1a1-4a23-bca9-538c2d36c685",
   "metadata": {},
   "source": [
    "## 保存图片\n"
   ]
  },
  {
   "cell_type": "code",
   "execution_count": 20,
   "id": "614c9e37-895b-4f8a-912b-e2836afba8ec",
   "metadata": {},
   "outputs": [],
   "source": [
    "import cv2\n"
   ]
  },
  {
   "cell_type": "code",
   "execution_count": 21,
   "id": "06dc6f64-4fbd-4eed-8724-cc0c77f990ea",
   "metadata": {},
   "outputs": [],
   "source": [
    "cv2.namedWindow('cat',cv2.WINDOW_NORMAL)"
   ]
  },
  {
   "cell_type": "code",
   "execution_count": 22,
   "id": "e2c0f516-4fb0-4808-9c60-8ab5a5e1b283",
   "metadata": {},
   "outputs": [],
   "source": [
    "cat = cv2.imread('./R.jpg')"
   ]
  },
  {
   "cell_type": "code",
   "execution_count": 24,
   "id": "87898939-1ba1-43b8-9ef2-d02b1fa6709d",
   "metadata": {},
   "outputs": [],
   "source": [
    "while True:\n",
    "    cv2.imshow('cat',cat)\n",
    "    key = cv2.waitKey(0)\n",
    "    if key == ord('q'):\n",
    "        break\n",
    "    elif key == ord('s'):\n",
    "        cv2.imwrite('123.jpg',cat)\n",
    "cv2.destroyAllWindows()\n",
    "    "
   ]
  },
  {
   "cell_type": "markdown",
   "id": "56ad0e87-988d-45d2-85a2-cdcbba40551c",
   "metadata": {},
   "source": [
    "## 读取摄像头和视频数据"
   ]
  },
  {
   "cell_type": "code",
   "execution_count": 37,
   "id": "a6f5fde6-3737-4a01-a29f-7667519a507d",
   "metadata": {},
   "outputs": [],
   "source": [
    "import cv2"
   ]
  },
  {
   "cell_type": "code",
   "execution_count": 38,
   "id": "149803aa-ac02-455b-920f-2ba6c3538327",
   "metadata": {},
   "outputs": [],
   "source": [
    "cv2.namedWindow('Video',cv2.WINDOW_NORMAL)\n",
    "cv2.resizeWindow('Video',1200,600)"
   ]
  },
  {
   "cell_type": "code",
   "execution_count": 39,
   "id": "24fb21f2-2e84-495e-a43f-8d649ed55e46",
   "metadata": {},
   "outputs": [],
   "source": [
    "video = cv2.VideoCapture(0)"
   ]
  },
  {
   "cell_type": "code",
   "execution_count": 40,
   "id": "496b6653-db9c-41f4-8bf5-912586329686",
   "metadata": {},
   "outputs": [],
   "source": [
    "while video.isOpened():\n",
    "    ret,frame = video.read()\n",
    "    if not ret:\n",
    "        break\n",
    "    cv2.imshow('Video',frame)\n",
    "    key = cv2.waitKey(1)\n",
    "    if key == ord('q'):\n",
    "        break\n",
    "cv2.destroyAllWindows()\n",
    "    \n",
    "    "
   ]
  },
  {
   "cell_type": "markdown",
   "id": "c8ed2232-b78f-47cb-a0c3-faccc26a7e2f",
   "metadata": {},
   "source": [
    "### 读取视频数据"
   ]
  },
  {
   "cell_type": "code",
   "execution_count": null,
   "id": "13e20139-d220-4db2-ab1d-84ce042c0d47",
   "metadata": {},
   "outputs": [],
   "source": []
  }
 ],
 "metadata": {
  "kernelspec": {
   "display_name": "Python 3 (ipykernel)",
   "language": "python",
   "name": "python3"
  },
  "language_info": {
   "codemirror_mode": {
    "name": "ipython",
    "version": 3
   },
   "file_extension": ".py",
   "mimetype": "text/x-python",
   "name": "python",
   "nbconvert_exporter": "python",
   "pygments_lexer": "ipython3",
   "version": "3.9.13"
  }
 },
 "nbformat": 4,
 "nbformat_minor": 5
}
