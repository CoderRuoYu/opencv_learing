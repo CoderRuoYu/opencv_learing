{
 "cells": [
  {
   "cell_type": "markdown",
   "id": "f0b259eb-7141-416f-bf00-c2616bb3404c",
   "metadata": {},
   "source": [
    "## 窗口的创建\n"
   ]
  },
  {
   "cell_type": "code",
   "execution_count": 8,
   "id": "f25dac24-2cdf-4b3a-a00b-7562cd42e5ad",
   "metadata": {},
   "outputs": [],
   "source": [
    "import cv2"
   ]
  },
  {
   "cell_type": "code",
   "execution_count": 9,
   "id": "6b9a45f0-9d37-431f-a5a4-1c953b3d69a5",
   "metadata": {},
   "outputs": [],
   "source": [
    "cv2.namedWindow('first',cv2.WINDOW_NORMAL)"
   ]
  },
  {
   "cell_type": "code",
   "execution_count": 10,
   "id": "d9e66052-ba6d-46a1-b89f-5b51fab8e099",
   "metadata": {},
   "outputs": [],
   "source": [
    "cv2.resizeWindow('first',100,50)"
   ]
  },
  {
   "cell_type": "code",
   "execution_count": 11,
   "id": "4b55b1b3-e8b9-4dbd-a7a2-7601c6158d74",
   "metadata": {},
   "outputs": [],
   "source": [
    "cv2.imshow('first',0)"
   ]
  },
  {
   "cell_type": "code",
   "execution_count": 12,
   "id": "4e512d96-4a93-4b03-9f34-bc22ae2d50f9",
   "metadata": {},
   "outputs": [],
   "source": [
    "key = cv2.waitKey(0)"
   ]
  },
  {
   "cell_type": "code",
   "execution_count": 13,
   "id": "26bf87b6-c3c4-42ef-ac01-5feb83fb8487",
   "metadata": {},
   "outputs": [
    {
     "name": "stdout",
     "output_type": "stream",
     "text": [
      "开始销毁窗口。\n"
     ]
    }
   ],
   "source": [
    "if key == ord('q'):\n",
    "    print(\"开始销毁窗口。\")\n",
    "    cv2.destroyAllWindows()"
   ]
  },
  {
   "cell_type": "markdown",
   "id": "151f7bf9-1dcd-426b-81b8-692a7dafbae0",
   "metadata": {},
   "source": [
    "## 加载图片"
   ]
  },
  {
   "cell_type": "code",
   "execution_count": 19,
   "id": "809df845-4175-4683-83b2-0b8c9badae99",
   "metadata": {},
   "outputs": [],
   "source": [
    "import cv2\n",
    "cv2.namedWindow('Cat',cv2.WINDOW_NORMAL)\n",
    "cv2.resizeWindow('Cat',400,200)\n",
    "cat = cv2.imread('R.jpg')\n",
    "cv2.imshow('Cat',cat)\n",
    "key = cv2.waitKey(0)\n",
    "if key==ord('q'):\n",
    "    cv2.destroyAllWindows()"
   ]
  },
  {
   "cell_type": "markdown",
   "id": "2cd54a65-e1a1-4a23-bca9-538c2d36c685",
   "metadata": {},
   "source": [
    "## 保存图片\n"
   ]
  },
  {
   "cell_type": "code",
   "execution_count": 20,
   "id": "614c9e37-895b-4f8a-912b-e2836afba8ec",
   "metadata": {},
   "outputs": [],
   "source": [
    "import cv2\n"
   ]
  },
  {
   "cell_type": "code",
   "execution_count": 21,
   "id": "06dc6f64-4fbd-4eed-8724-cc0c77f990ea",
   "metadata": {},
   "outputs": [],
   "source": [
    "cv2.namedWindow('cat',cv2.WINDOW_NORMAL)"
   ]
  },
  {
   "cell_type": "code",
   "execution_count": 22,
   "id": "e2c0f516-4fb0-4808-9c60-8ab5a5e1b283",
   "metadata": {},
   "outputs": [],
   "source": [
    "cat = cv2.imread('./R.jpg')"
   ]
  },
  {
   "cell_type": "code",
   "execution_count": 24,
   "id": "87898939-1ba1-43b8-9ef2-d02b1fa6709d",
   "metadata": {},
   "outputs": [],
   "source": [
    "while True:\n",
    "    cv2.imshow('cat',cat)\n",
    "    key = cv2.waitKey(0)\n",
    "    if key == ord('q'):\n",
    "        break\n",
    "    elif key == ord('s'):\n",
    "        cv2.imwrite('123.jpg',cat)\n",
    "cv2.destroyAllWindows()\n",
    "    "
   ]
  },
  {
   "cell_type": "markdown",
   "id": "56ad0e87-988d-45d2-85a2-cdcbba40551c",
   "metadata": {},
   "source": [
    "## 读取摄像头和视频数据"
   ]
  },
  {
   "cell_type": "code",
   "execution_count": 1,
   "id": "a6f5fde6-3737-4a01-a29f-7667519a507d",
   "metadata": {},
   "outputs": [],
   "source": [
    "import cv2"
   ]
  },
  {
   "cell_type": "code",
   "execution_count": 2,
   "id": "149803aa-ac02-455b-920f-2ba6c3538327",
   "metadata": {},
   "outputs": [],
   "source": [
    "cv2.namedWindow('Video',cv2.WINDOW_NORMAL)\n",
    "cv2.resizeWindow('Video',1200,600)"
   ]
  },
  {
   "cell_type": "code",
   "execution_count": 3,
   "id": "24fb21f2-2e84-495e-a43f-8d649ed55e46",
   "metadata": {},
   "outputs": [],
   "source": [
    "video = cv2.VideoCapture(0)"
   ]
  },
  {
   "cell_type": "code",
   "execution_count": 4,
   "id": "496b6653-db9c-41f4-8bf5-912586329686",
   "metadata": {},
   "outputs": [],
   "source": [
    "while video.isOpened():\n",
    "    ret,frame = video.read()\n",
    "    if not ret:\n",
    "        break\n",
    "    cv2.imshow('Video',frame)\n",
    "    key = cv2.waitKey(1)\n",
    "    if key == ord('q'):\n",
    "        break\n",
    "video.release()\n",
    "cv2.destroyAllWindows()\n",
    "    \n",
    "    "
   ]
  },
  {
   "cell_type": "markdown",
   "id": "c8ed2232-b78f-47cb-a0c3-faccc26a7e2f",
   "metadata": {
    "tags": []
   },
   "source": [
    "### 保存视频"
   ]
  },
  {
   "cell_type": "code",
   "execution_count": 5,
   "id": "13e20139-d220-4db2-ab1d-84ce042c0d47",
   "metadata": {},
   "outputs": [],
   "source": [
    "import cv2"
   ]
  },
  {
   "cell_type": "code",
   "execution_count": 6,
   "id": "c68a46ea-4e4c-4edd-a052-5a0fa7652924",
   "metadata": {},
   "outputs": [],
   "source": [
    "cap = cv2.VideoCapture(0)"
   ]
  },
  {
   "cell_type": "code",
   "execution_count": 7,
   "id": "ec8e4d9f-f5e0-4786-aa6d-9aef80e6cad0",
   "metadata": {},
   "outputs": [],
   "source": [
    "fourcc = cv2.VideoWriter_fourcc('M','P','4','V')"
   ]
  },
  {
   "cell_type": "code",
   "execution_count": 8,
   "id": "a821f431-76d4-42f6-90d8-d3313a494dad",
   "metadata": {},
   "outputs": [],
   "source": [
    "vw = cv2.VideoWriter('output.mp4',fourcc,30,(640,480))"
   ]
  },
  {
   "cell_type": "code",
   "execution_count": 9,
   "id": "905554d7-0c45-45fc-9342-f191890de352",
   "metadata": {},
   "outputs": [],
   "source": [
    "while cap.isOpened():\n",
    "    ret,frame = cap.read()\n",
    "    if not ret:\n",
    "        print('没有成功打开摄像头。')\n",
    "        break\n",
    "    vw.write(frame)\n",
    "    cv2.imshow('frame',frame)\n",
    "    if cv2.waitKey(1000//3) == ord('q'):\n",
    "        break\n",
    "cap.release()\n",
    "vw.release()\n",
    "cv2.destroyAllWindows()"
   ]
  },
  {
   "cell_type": "markdown",
   "id": "bdac5aa2-9759-4d67-b885-2aab5cc3a9bb",
   "metadata": {},
   "source": [
    "### 控制鼠标"
   ]
  },
  {
   "cell_type": "code",
   "execution_count": 1,
   "id": "2cc7e0d6-2c3b-42fe-bf89-f91e5c65d1b2",
   "metadata": {},
   "outputs": [],
   "source": [
    "import cv2\n",
    "import numpy as np"
   ]
  },
  {
   "cell_type": "code",
   "execution_count": 2,
   "id": "a7f933ca-125a-4869-8a99-51338cb895b8",
   "metadata": {},
   "outputs": [],
   "source": [
    "def mouse_Callback(event,x,y,flags,userdata):\n",
    "    if event == 1:\n",
    "        print(event,x,y,flags,userdata)"
   ]
  },
  {
   "cell_type": "code",
   "execution_count": 3,
   "id": "f3b94a69-b01f-4e61-8d25-f43a61b8c0d7",
   "metadata": {},
   "outputs": [],
   "source": [
    "cv2.namedWindow('mouse')\n",
    "cv2.resizeWindow('mouse',(640,480))"
   ]
  },
  {
   "cell_type": "code",
   "execution_count": 4,
   "id": "996481a6-ced7-4e22-8e87-53baf1b73500",
   "metadata": {},
   "outputs": [],
   "source": [
    "cv2.setMouseCallback('mouse',mouse_Callback,'123')\n",
    "mouse = np.zeros((480,640,3),np.uint8)"
   ]
  },
  {
   "cell_type": "code",
   "execution_count": 5,
   "id": "2a2f2c1b-5bed-4325-b242-ceb0e2eea997",
   "metadata": {},
   "outputs": [
    {
     "name": "stdout",
     "output_type": "stream",
     "text": [
      "1 157 107 1 123\n",
      "1 147 87 1 123\n",
      "1 280 157 1 123\n",
      "1 217 244 1 123\n",
      "1 439 300 1 123\n",
      "1 395 123 1 123\n",
      "1 13 9 1 123\n",
      "1 1 2 1 123\n",
      "1 637 475 1 123\n"
     ]
    }
   ],
   "source": [
    "while True:\n",
    "    cv2.imshow('mouse',mouse)\n",
    "    key = cv2.waitKey(0)\n",
    "    if key == ord('q'):\n",
    "        break\n",
    "cv2.destroyAllWindows()"
   ]
  },
  {
   "cell_type": "markdown",
   "id": "94df2765-60bc-4728-af98-c4846c110398",
   "metadata": {},
   "source": [
    "### trackbar用法"
   ]
  },
  {
   "cell_type": "code",
   "execution_count": 19,
   "id": "9b0e6b8e-27f2-4b8f-9944-4c1502d75ccb",
   "metadata": {},
   "outputs": [],
   "source": [
    "import cv2\n",
    "import numpy as np"
   ]
  },
  {
   "cell_type": "code",
   "execution_count": 20,
   "id": "0bbea7bd-6cd8-44ef-9672-e1582b5831e1",
   "metadata": {},
   "outputs": [],
   "source": [
    "#定义回调函数\n",
    "def callBack(value):\n",
    "    pass\n"
   ]
  },
  {
   "cell_type": "code",
   "execution_count": 21,
   "id": "6341301b-1c8a-4a1d-bb24-86a213615b15",
   "metadata": {},
   "outputs": [],
   "source": [
    "#建立窗口\n",
    "cv2.namedWindow('trackbar',cv2.WINDOW_NORMAL)\n",
    "cv2.resizeWindow('trackbar',640,480)"
   ]
  },
  {
   "cell_type": "code",
   "execution_count": 22,
   "id": "1a2f3a9b-8b38-4750-819a-0ec180572188",
   "metadata": {},
   "outputs": [],
   "source": [
    "#建立trackbar\n",
    "cv2.createTrackbar('R','trackbar',0,255,callBack)\n",
    "cv2.createTrackbar('G','trackbar',0,255,callBack)\n",
    "cv2.createTrackbar('B','trackbar',0,255,callBack)"
   ]
  },
  {
   "cell_type": "code",
   "execution_count": 23,
   "id": "516c62fb-4f44-41dc-ba6a-29f7b592f7fb",
   "metadata": {},
   "outputs": [],
   "source": [
    "#对背景进行操作\n",
    "img = np.zeros((480,640,3),np.uint8)"
   ]
  },
  {
   "cell_type": "code",
   "execution_count": 24,
   "id": "40d9c588-657c-4ddd-b481-6bd47f2a612f",
   "metadata": {},
   "outputs": [],
   "source": [
    "while True:\n",
    "    r = cv2.getTrackbarPos('R','trackbar')\n",
    "    g = cv2.getTrackbarPos('G','trackbar')    \n",
    "    b = cv2.getTrackbarPos('B','trackbar')    \n",
    "    img[:]=[b,g,r]\n",
    "    #img[:,:,0] = b\n",
    "    #img[:,:,1] = g  \n",
    "    #img[:,:,2] = r   \n",
    "    cv2.imshow('trackbar',img)\n",
    "    key = cv2.waitKey(1)\n",
    "    if key == ord('q'):\n",
    "        break"
   ]
  },
  {
   "cell_type": "code",
   "execution_count": 25,
   "id": "e9cecfca-24b7-4d54-8dd3-c6e7d2d0a7eb",
   "metadata": {},
   "outputs": [],
   "source": [
    "cv2.destroyAllWindows()"
   ]
  },
  {
   "cell_type": "code",
   "execution_count": null,
   "id": "0c42607f-4c4e-4041-9980-3ca57b8f4834",
   "metadata": {},
   "outputs": [],
   "source": []
  }
 ],
 "metadata": {
  "kernelspec": {
   "display_name": "Python 3 (ipykernel)",
   "language": "python",
   "name": "python3"
  },
  "language_info": {
   "codemirror_mode": {
    "name": "ipython",
    "version": 3
   },
   "file_extension": ".py",
   "mimetype": "text/x-python",
   "name": "python",
   "nbconvert_exporter": "python",
   "pygments_lexer": "ipython3",
   "version": "3.9.13"
  }
 },
 "nbformat": 4,
 "nbformat_minor": 5
}
